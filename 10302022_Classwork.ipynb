{
 "cells": [
  {
   "cell_type": "code",
   "execution_count": 13,
   "metadata": {},
   "outputs": [
    {
     "data": {
      "text/plain": [
       "8"
      ]
     },
     "execution_count": 13,
     "metadata": {},
     "output_type": "execute_result"
    }
   ],
   "source": [
    "# 1. To find the length of the string without length function\n",
    "s = 'Good Day'\n",
    "def stringlength():\n",
    "    length = 0\n",
    "    for a in s:\n",
    "        length = length +1\n",
    "    return length\n",
    "stringlength()  "
   ]
  },
  {
   "cell_type": "code",
   "execution_count": 39,
   "metadata": {},
   "outputs": [
    {
     "name": "stdout",
     "output_type": "stream",
     "text": [
      "The index of 10 is 0\n",
      "The index of 20 is 1\n",
      "The index of 30 is 2\n",
      "The index of 40 is 3\n"
     ]
    }
   ],
   "source": [
    "#2. To print index of list element\n",
    "l = list()\n",
    "l = [10,20,30,40]\n",
    "def indexOfList(l):\n",
    "    i = 0\n",
    "    for x in l:\n",
    "        print(f\"The index of {x} is\" , i)\n",
    "        i = i+ 1              \n",
    "indexOfList(l)       \n"
   ]
  },
  {
   "cell_type": "code",
   "execution_count": 37,
   "metadata": {},
   "outputs": [
    {
     "name": "stdout",
     "output_type": "stream",
     "text": [
      "IP Address is  172.18.0.9\n"
     ]
    }
   ],
   "source": [
    "# 3.To print ip address of your system\n",
    "import socket\n",
    "def ipaddress():\n",
    "    hostname = socket.gethostname()\n",
    "    ipadd = socket.gethostbyname(hostname)\n",
    "    print(\"IP Address is \", ipadd)\n",
    "ipaddress()\n"
   ]
  },
  {
   "cell_type": "code",
   "execution_count": 6,
   "metadata": {},
   "outputs": [
    {
     "name": "stdout",
     "output_type": "stream",
     "text": [
      "The multiplication of numerical values in list l is  20\n"
     ]
    }
   ],
   "source": [
    "# 5. To multiply only numerical values from list\n",
    "l =list()\n",
    "l =[3.5,6.56,4,5,\"Sudh\",\"ineuron\",'fsds bootcamp2.0\"']\n",
    "def listmultiply():\n",
    "    result = 1\n",
    "    for i in l:\n",
    "        if type(i) == int:\n",
    "            result = result * i\n",
    "    print(f\"The multiplication of numerical values in list l is \", result)\n",
    "listmultiply()                   "
   ]
  }
 ],
 "metadata": {
  "kernelspec": {
   "display_name": "Python 3.8.10 64-bit",
   "language": "python",
   "name": "python3"
  },
  "language_info": {
   "codemirror_mode": {
    "name": "ipython",
    "version": 3
   },
   "file_extension": ".py",
   "mimetype": "text/x-python",
   "name": "python",
   "nbconvert_exporter": "python",
   "pygments_lexer": "ipython3",
   "version": "3.8.10"
  },
  "orig_nbformat": 4,
  "vscode": {
   "interpreter": {
    "hash": "e7370f93d1d0cde622a1f8e1c04877d8463912d04d973331ad4851f04de6915a"
   }
  }
 },
 "nbformat": 4,
 "nbformat_minor": 2
}
